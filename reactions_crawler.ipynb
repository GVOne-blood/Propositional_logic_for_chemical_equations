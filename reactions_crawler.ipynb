{
 "cells": [
  {
   "cell_type": "code",
   "execution_count": null,
   "metadata": {},
   "outputs": [],
   "source": [
    "import requests\n",
    "from bs4 import BeautifulSoup"
   ]
  },
  {
   "cell_type": "markdown",
   "metadata": {},
   "source": [
    "# import & solve url "
   ]
  },
  {
   "cell_type": "code",
   "execution_count": null,
   "metadata": {},
   "outputs": [],
   "source": [
    "#url = 'https://tudienhoahoc.com/phuong-trinh-hoa-hoc' #trang chu\n",
    "url = 'https://tudienhoahoc.com/wp-content/themes/tudien/ajax/search-pthh.php?loai=text&ajax=' #tim kiem phuong trinh theo ten \n",
    "Alphabet = ['A', 'B', 'C', 'D', 'E', 'F', 'G', 'H', 'I', 'J', 'K', 'L', 'M', 'N', 'O', 'P', 'Q', 'R', 'S', 'T', 'U', 'V', 'W', 'X', 'Y', 'Z']\n",
    "for letter in Alphabet:\n",
    "    response = requests.get(url + letter)\n",
    "    print('Access Successful with {letter}, status : ', response)\n",
    "response # status_code: 200"
   ]
  },
  {
   "cell_type": "code",
   "execution_count": null,
   "metadata": {},
   "outputs": [],
   "source": [
    "# Get HTML document\n",
    "if response.status_code == 200:\n",
    "    soup = BeautifulSoup(response.content, 'html.parser')\n",
    "soup"
   ]
  },
  {
   "cell_type": "code",
   "execution_count": null,
   "metadata": {},
   "outputs": [],
   "source": [
    "#test\n",
    "soup.title\n",
    "soup.div\n",
    "soup.find('div', class_='container') # get all div with class 'container'\n"
   ]
  },
  {
   "cell_type": "markdown",
   "metadata": {},
   "source": [
    "### Crawling by letter A -> Z"
   ]
  },
  {
   "cell_type": "code",
   "execution_count": null,
   "metadata": {},
   "outputs": [],
   "source": [
    "\n",
    "\n",
    "# table = soup.find('table', class_='wp-list-table widefat fixed striped posts')\n",
    "# rows = table.findAll('a', class_='kyhieu')\n",
    "for letter in Alphabet:\n",
    "    response = requests.get(url + letter)\n",
    "    soup = BeautifulSoup(response.content, 'html.parser')\n",
    "    rows = soup.findAll('a', class_='kyhieu')\n",
    "    for row in rows:\n",
    "        print(row.text.strip())"
   ]
  }
 ],
 "metadata": {
  "kernelspec": {
   "display_name": "venv",
   "language": "python",
   "name": "python3"
  },
  "language_info": {
   "codemirror_mode": {
    "name": "ipython",
    "version": 3
   },
   "file_extension": ".py",
   "mimetype": "text/x-python",
   "name": "python",
   "nbconvert_exporter": "python",
   "pygments_lexer": "ipython3",
   "version": "3.11.9"
  }
 },
 "nbformat": 4,
 "nbformat_minor": 2
}
